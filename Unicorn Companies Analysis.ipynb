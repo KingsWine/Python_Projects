{
 "cells": [
  {
   "cell_type": "markdown",
   "id": "44df1add",
   "metadata": {},
   "source": [
    "# Unicorn Companies Analysis\n",
    "This project is to analysis, explore and answer specific questions about the unicorn companies"
   ]
  },
  {
   "cell_type": "markdown",
   "id": "f093ace4",
   "metadata": {},
   "source": [
    "## Step 1: Importing Libraries and Data Reading"
   ]
  },
  {
   "cell_type": "code",
   "execution_count": 1,
   "id": "380fbbcc",
   "metadata": {},
   "outputs": [],
   "source": [
    "import numpy as np\n",
    "import pandas as pd\n",
    "import matplotlib.pyplot as plt\n",
    "import seaborn as sns"
   ]
  },
  {
   "cell_type": "code",
   "execution_count": 2,
   "id": "1a849192",
   "metadata": {},
   "outputs": [
    {
     "data": {
      "text/html": [
       "<div>\n",
       "<style scoped>\n",
       "    .dataframe tbody tr th:only-of-type {\n",
       "        vertical-align: middle;\n",
       "    }\n",
       "\n",
       "    .dataframe tbody tr th {\n",
       "        vertical-align: top;\n",
       "    }\n",
       "\n",
       "    .dataframe thead th {\n",
       "        text-align: right;\n",
       "    }\n",
       "</style>\n",
       "<table border=\"1\" class=\"dataframe\">\n",
       "  <thead>\n",
       "    <tr style=\"text-align: right;\">\n",
       "      <th></th>\n",
       "      <th>Company</th>\n",
       "      <th>Valuation</th>\n",
       "      <th>Date Joined</th>\n",
       "      <th>Industry</th>\n",
       "      <th>City</th>\n",
       "      <th>Country</th>\n",
       "      <th>Continent</th>\n",
       "      <th>Year Founded</th>\n",
       "      <th>Funding</th>\n",
       "      <th>Select Investors</th>\n",
       "    </tr>\n",
       "  </thead>\n",
       "  <tbody>\n",
       "    <tr>\n",
       "      <th>0</th>\n",
       "      <td>Bytedance</td>\n",
       "      <td>$180B</td>\n",
       "      <td>2017-04-07</td>\n",
       "      <td>Artificial intelligence</td>\n",
       "      <td>Beijing</td>\n",
       "      <td>China</td>\n",
       "      <td>Asia</td>\n",
       "      <td>2012</td>\n",
       "      <td>$8B</td>\n",
       "      <td>Sequoia Capital China, SIG Asia Investments, S...</td>\n",
       "    </tr>\n",
       "    <tr>\n",
       "      <th>1</th>\n",
       "      <td>SpaceX</td>\n",
       "      <td>$100B</td>\n",
       "      <td>2012-12-01</td>\n",
       "      <td>Other</td>\n",
       "      <td>Hawthorne</td>\n",
       "      <td>United States</td>\n",
       "      <td>North America</td>\n",
       "      <td>2002</td>\n",
       "      <td>$7B</td>\n",
       "      <td>Founders Fund, Draper Fisher Jurvetson, Rothen...</td>\n",
       "    </tr>\n",
       "    <tr>\n",
       "      <th>2</th>\n",
       "      <td>SHEIN</td>\n",
       "      <td>$100B</td>\n",
       "      <td>2018-07-03</td>\n",
       "      <td>E-commerce &amp; direct-to-consumer</td>\n",
       "      <td>Shenzhen</td>\n",
       "      <td>China</td>\n",
       "      <td>Asia</td>\n",
       "      <td>2008</td>\n",
       "      <td>$2B</td>\n",
       "      <td>Tiger Global Management, Sequoia Capital China...</td>\n",
       "    </tr>\n",
       "    <tr>\n",
       "      <th>3</th>\n",
       "      <td>Stripe</td>\n",
       "      <td>$95B</td>\n",
       "      <td>2014-01-23</td>\n",
       "      <td>Fintech</td>\n",
       "      <td>San Francisco</td>\n",
       "      <td>United States</td>\n",
       "      <td>North America</td>\n",
       "      <td>2010</td>\n",
       "      <td>$2B</td>\n",
       "      <td>Khosla Ventures, LowercaseCapital, capitalG</td>\n",
       "    </tr>\n",
       "    <tr>\n",
       "      <th>4</th>\n",
       "      <td>Klarna</td>\n",
       "      <td>$46B</td>\n",
       "      <td>2011-12-12</td>\n",
       "      <td>Fintech</td>\n",
       "      <td>Stockholm</td>\n",
       "      <td>Sweden</td>\n",
       "      <td>Europe</td>\n",
       "      <td>2005</td>\n",
       "      <td>$4B</td>\n",
       "      <td>Institutional Venture Partners, Sequoia Capita...</td>\n",
       "    </tr>\n",
       "  </tbody>\n",
       "</table>\n",
       "</div>"
      ],
      "text/plain": [
       "     Company Valuation Date Joined                         Industry  \\\n",
       "0  Bytedance     $180B  2017-04-07          Artificial intelligence   \n",
       "1     SpaceX     $100B  2012-12-01                            Other   \n",
       "2      SHEIN     $100B  2018-07-03  E-commerce & direct-to-consumer   \n",
       "3     Stripe      $95B  2014-01-23                          Fintech   \n",
       "4     Klarna      $46B  2011-12-12                          Fintech   \n",
       "\n",
       "            City        Country      Continent  Year Founded Funding  \\\n",
       "0        Beijing          China           Asia          2012     $8B   \n",
       "1      Hawthorne  United States  North America          2002     $7B   \n",
       "2       Shenzhen          China           Asia          2008     $2B   \n",
       "3  San Francisco  United States  North America          2010     $2B   \n",
       "4      Stockholm         Sweden         Europe          2005     $4B   \n",
       "\n",
       "                                    Select Investors  \n",
       "0  Sequoia Capital China, SIG Asia Investments, S...  \n",
       "1  Founders Fund, Draper Fisher Jurvetson, Rothen...  \n",
       "2  Tiger Global Management, Sequoia Capital China...  \n",
       "3        Khosla Ventures, LowercaseCapital, capitalG  \n",
       "4  Institutional Venture Partners, Sequoia Capita...  "
      ]
     },
     "execution_count": 2,
     "metadata": {},
     "output_type": "execute_result"
    }
   ],
   "source": [
    "unicorn = pd.read_csv('Unicorn_Companies.csv')\n",
    "unicorn.head()"
   ]
  },
  {
   "cell_type": "code",
   "execution_count": 3,
   "id": "ef138bd3",
   "metadata": {},
   "outputs": [
    {
     "name": "stdout",
     "output_type": "stream",
     "text": [
      "<class 'pandas.core.frame.DataFrame'>\n",
      "RangeIndex: 1074 entries, 0 to 1073\n",
      "Data columns (total 10 columns):\n",
      " #   Column            Non-Null Count  Dtype \n",
      "---  ------            --------------  ----- \n",
      " 0   Company           1074 non-null   object\n",
      " 1   Valuation         1074 non-null   object\n",
      " 2   Date Joined       1074 non-null   object\n",
      " 3   Industry          1074 non-null   object\n",
      " 4   City              1058 non-null   object\n",
      " 5   Country           1074 non-null   object\n",
      " 6   Continent         1074 non-null   object\n",
      " 7   Year Founded      1074 non-null   int64 \n",
      " 8   Funding           1074 non-null   object\n",
      " 9   Select Investors  1073 non-null   object\n",
      "dtypes: int64(1), object(9)\n",
      "memory usage: 84.0+ KB\n"
     ]
    }
   ],
   "source": [
    "unicorn.info()"
   ]
  },
  {
   "cell_type": "markdown",
   "id": "7028dc58",
   "metadata": {},
   "source": [
    "## Step 2: Data cleaning\n",
    "This includes the process of checking and removing null and dupplicated, corecting the data types, etc."
   ]
  },
  {
   "cell_type": "code",
   "execution_count": 4,
   "id": "20809df2",
   "metadata": {
    "scrolled": true
   },
   "outputs": [
    {
     "data": {
      "text/plain": [
       "Company              0\n",
       "Valuation            0\n",
       "Date Joined          0\n",
       "Industry             0\n",
       "City                16\n",
       "Country              0\n",
       "Continent            0\n",
       "Year Founded         0\n",
       "Funding              0\n",
       "Select Investors     1\n",
       "dtype: int64"
      ]
     },
     "execution_count": 4,
     "metadata": {},
     "output_type": "execute_result"
    }
   ],
   "source": [
    "# To check for null values\n",
    "unicorn.isna().sum()"
   ]
  },
  {
   "cell_type": "code",
   "execution_count": 5,
   "id": "6b760593",
   "metadata": {},
   "outputs": [],
   "source": [
    "# to remove null values\n",
    "unicorn = unicorn.dropna()"
   ]
  },
  {
   "cell_type": "code",
   "execution_count": 6,
   "id": "bd35e1e4",
   "metadata": {},
   "outputs": [
    {
     "data": {
      "text/plain": [
       "0"
      ]
     },
     "execution_count": 6,
     "metadata": {},
     "output_type": "execute_result"
    }
   ],
   "source": [
    "# to check for duplicates\n",
    "unicorn.duplicated().sum()"
   ]
  },
  {
   "cell_type": "code",
   "execution_count": 7,
   "id": "cfd990df",
   "metadata": {},
   "outputs": [],
   "source": [
    "# to change the column names to lowercase\n",
    "\n",
    "unicorn.columns = [col.lower() for col in unicorn.columns]"
   ]
  },
  {
   "cell_type": "code",
   "execution_count": 8,
   "id": "a1bc3987",
   "metadata": {},
   "outputs": [],
   "source": [
    "# to change object data type to date datatype and extract the 'year'\n",
    "\n",
    "unicorn['date joined'] = pd.to_datetime(unicorn['date joined'])\n",
    "unicorn['year joined'] = unicorn['date joined'].dt.year"
   ]
  },
  {
   "cell_type": "code",
   "execution_count": 9,
   "id": "79c525ac",
   "metadata": {},
   "outputs": [],
   "source": [
    "# function to replace string and convert values in million to billion\n",
    "def convert_value(value_str):\n",
    "    value_str = value_str.strip('$')\n",
    "    if value_str.endswith('M'):\n",
    "        try:\n",
    "            return float(value_str[:-1]) * 0.001\n",
    "        except ValueError:\n",
    "            pass\n",
    "    elif value_str.endswith('B'):\n",
    "        try:\n",
    "            return float(value_str[:-1])\n",
    "        except ValueError:\n",
    "            pass"
   ]
  },
  {
   "cell_type": "code",
   "execution_count": 10,
   "id": "a2d1c1bc",
   "metadata": {},
   "outputs": [],
   "source": [
    "unicorn['funding_converted'] = unicorn['funding'].apply(convert_value)"
   ]
  },
  {
   "cell_type": "code",
   "execution_count": 11,
   "id": "5b40ab6f",
   "metadata": {},
   "outputs": [
    {
     "data": {
      "text/html": [
       "<div>\n",
       "<style scoped>\n",
       "    .dataframe tbody tr th:only-of-type {\n",
       "        vertical-align: middle;\n",
       "    }\n",
       "\n",
       "    .dataframe tbody tr th {\n",
       "        vertical-align: top;\n",
       "    }\n",
       "\n",
       "    .dataframe thead th {\n",
       "        text-align: right;\n",
       "    }\n",
       "</style>\n",
       "<table border=\"1\" class=\"dataframe\">\n",
       "  <thead>\n",
       "    <tr style=\"text-align: right;\">\n",
       "      <th></th>\n",
       "      <th>company</th>\n",
       "      <th>valuation</th>\n",
       "      <th>date joined</th>\n",
       "      <th>industry</th>\n",
       "      <th>city</th>\n",
       "      <th>country</th>\n",
       "      <th>continent</th>\n",
       "      <th>year founded</th>\n",
       "      <th>funding</th>\n",
       "      <th>select investors</th>\n",
       "      <th>year joined</th>\n",
       "      <th>funding_converted</th>\n",
       "    </tr>\n",
       "  </thead>\n",
       "  <tbody>\n",
       "    <tr>\n",
       "      <th>215</th>\n",
       "      <td>SSENSE</td>\n",
       "      <td>$4B</td>\n",
       "      <td>2021-06-08</td>\n",
       "      <td>E-commerce &amp; direct-to-consumer</td>\n",
       "      <td>Montreal</td>\n",
       "      <td>Canada</td>\n",
       "      <td>North America</td>\n",
       "      <td>2003</td>\n",
       "      <td>Unknown</td>\n",
       "      <td>Sequoia Capital</td>\n",
       "      <td>2021</td>\n",
       "      <td>NaN</td>\n",
       "    </tr>\n",
       "    <tr>\n",
       "      <th>424</th>\n",
       "      <td>Uplight</td>\n",
       "      <td>$2B</td>\n",
       "      <td>2021-03-03</td>\n",
       "      <td>Other</td>\n",
       "      <td>Boulder</td>\n",
       "      <td>United States</td>\n",
       "      <td>North America</td>\n",
       "      <td>2019</td>\n",
       "      <td>Unknown</td>\n",
       "      <td>Rubicon Technology Partners, Max Ventures, Inc...</td>\n",
       "      <td>2021</td>\n",
       "      <td>NaN</td>\n",
       "    </tr>\n",
       "    <tr>\n",
       "      <th>567</th>\n",
       "      <td>ISN</td>\n",
       "      <td>$2B</td>\n",
       "      <td>2020-12-17</td>\n",
       "      <td>Supply chain, logistics, &amp; delivery</td>\n",
       "      <td>Dallas</td>\n",
       "      <td>United States</td>\n",
       "      <td>North America</td>\n",
       "      <td>2001</td>\n",
       "      <td>Unknown</td>\n",
       "      <td>Blackstone</td>\n",
       "      <td>2020</td>\n",
       "      <td>NaN</td>\n",
       "    </tr>\n",
       "    <tr>\n",
       "      <th>639</th>\n",
       "      <td>SITECH DEV</td>\n",
       "      <td>$1B</td>\n",
       "      <td>2019-05-16</td>\n",
       "      <td>Other</td>\n",
       "      <td>Guiyang</td>\n",
       "      <td>China</td>\n",
       "      <td>Asia</td>\n",
       "      <td>2017</td>\n",
       "      <td>Unknown</td>\n",
       "      <td>China Prosperity Capital</td>\n",
       "      <td>2019</td>\n",
       "      <td>NaN</td>\n",
       "    </tr>\n",
       "    <tr>\n",
       "      <th>651</th>\n",
       "      <td>Xiaobing</td>\n",
       "      <td>$1B</td>\n",
       "      <td>2021-07-12</td>\n",
       "      <td>Fintech</td>\n",
       "      <td>Beijing</td>\n",
       "      <td>China</td>\n",
       "      <td>Asia</td>\n",
       "      <td>2020</td>\n",
       "      <td>Unknown</td>\n",
       "      <td>NetEase Capital, Northern Light Venture Capita...</td>\n",
       "      <td>2021</td>\n",
       "      <td>NaN</td>\n",
       "    </tr>\n",
       "    <tr>\n",
       "      <th>717</th>\n",
       "      <td>Veepee</td>\n",
       "      <td>$1B</td>\n",
       "      <td>2007-07-02</td>\n",
       "      <td>E-commerce &amp; direct-to-consumer</td>\n",
       "      <td>La Plaine Saint-Denis</td>\n",
       "      <td>France</td>\n",
       "      <td>Europe</td>\n",
       "      <td>2001</td>\n",
       "      <td>Unknown</td>\n",
       "      <td>Summit Partners, Qatar Holding</td>\n",
       "      <td>2007</td>\n",
       "      <td>NaN</td>\n",
       "    </tr>\n",
       "    <tr>\n",
       "      <th>733</th>\n",
       "      <td>DistroKid</td>\n",
       "      <td>$1B</td>\n",
       "      <td>2021-08-16</td>\n",
       "      <td>Internet software &amp; services</td>\n",
       "      <td>New York</td>\n",
       "      <td>United States</td>\n",
       "      <td>North America</td>\n",
       "      <td>2013</td>\n",
       "      <td>Unknown</td>\n",
       "      <td>Insight Partners, Silversmith Capital Partners...</td>\n",
       "      <td>2021</td>\n",
       "      <td>NaN</td>\n",
       "    </tr>\n",
       "    <tr>\n",
       "      <th>866</th>\n",
       "      <td>Assembly</td>\n",
       "      <td>$1B</td>\n",
       "      <td>2021-09-21</td>\n",
       "      <td>Internet software &amp; services</td>\n",
       "      <td>Culver City</td>\n",
       "      <td>United States</td>\n",
       "      <td>North America</td>\n",
       "      <td>2019</td>\n",
       "      <td>Unknown</td>\n",
       "      <td>Advent International, PSG, Providence Equity P...</td>\n",
       "      <td>2021</td>\n",
       "      <td>NaN</td>\n",
       "    </tr>\n",
       "    <tr>\n",
       "      <th>890</th>\n",
       "      <td>Carson Group</td>\n",
       "      <td>$1B</td>\n",
       "      <td>2021-07-14</td>\n",
       "      <td>Fintech</td>\n",
       "      <td>Lincoln</td>\n",
       "      <td>United States</td>\n",
       "      <td>North America</td>\n",
       "      <td>2012</td>\n",
       "      <td>Unknown</td>\n",
       "      <td>Bain Capital</td>\n",
       "      <td>2021</td>\n",
       "      <td>NaN</td>\n",
       "    </tr>\n",
       "    <tr>\n",
       "      <th>945</th>\n",
       "      <td>Iodine Software</td>\n",
       "      <td>$1B</td>\n",
       "      <td>2021-12-01</td>\n",
       "      <td>Data management &amp; analytics</td>\n",
       "      <td>Austin</td>\n",
       "      <td>United States</td>\n",
       "      <td>North America</td>\n",
       "      <td>2010</td>\n",
       "      <td>Unknown</td>\n",
       "      <td>Advent International, Bain Capital Ventures, S...</td>\n",
       "      <td>2021</td>\n",
       "      <td>NaN</td>\n",
       "    </tr>\n",
       "    <tr>\n",
       "      <th>947</th>\n",
       "      <td>Kendra Scott</td>\n",
       "      <td>$1B</td>\n",
       "      <td>2016-12-21</td>\n",
       "      <td>Consumer &amp; retail</td>\n",
       "      <td>Austin</td>\n",
       "      <td>United States</td>\n",
       "      <td>North America</td>\n",
       "      <td>2002</td>\n",
       "      <td>Unknown</td>\n",
       "      <td>Berkshire Partners, Norwest Venture Partners</td>\n",
       "      <td>2016</td>\n",
       "      <td>NaN</td>\n",
       "    </tr>\n",
       "    <tr>\n",
       "      <th>1002</th>\n",
       "      <td>Poizon</td>\n",
       "      <td>$1B</td>\n",
       "      <td>2019-04-29</td>\n",
       "      <td>Mobile &amp; telecommunications</td>\n",
       "      <td>Shanghai</td>\n",
       "      <td>China</td>\n",
       "      <td>Asia</td>\n",
       "      <td>2015</td>\n",
       "      <td>Unknown</td>\n",
       "      <td>DST Global, Sequoia Capital China, Gaorong Cap...</td>\n",
       "      <td>2019</td>\n",
       "      <td>NaN</td>\n",
       "    </tr>\n",
       "  </tbody>\n",
       "</table>\n",
       "</div>"
      ],
      "text/plain": [
       "              company valuation date joined  \\\n",
       "215            SSENSE       $4B  2021-06-08   \n",
       "424           Uplight       $2B  2021-03-03   \n",
       "567               ISN       $2B  2020-12-17   \n",
       "639        SITECH DEV       $1B  2019-05-16   \n",
       "651          Xiaobing       $1B  2021-07-12   \n",
       "717            Veepee       $1B  2007-07-02   \n",
       "733         DistroKid       $1B  2021-08-16   \n",
       "866          Assembly       $1B  2021-09-21   \n",
       "890      Carson Group       $1B  2021-07-14   \n",
       "945   Iodine Software       $1B  2021-12-01   \n",
       "947      Kendra Scott       $1B  2016-12-21   \n",
       "1002           Poizon       $1B  2019-04-29   \n",
       "\n",
       "                                 industry                   city  \\\n",
       "215       E-commerce & direct-to-consumer               Montreal   \n",
       "424                                 Other                Boulder   \n",
       "567   Supply chain, logistics, & delivery                 Dallas   \n",
       "639                                 Other                Guiyang   \n",
       "651                               Fintech                Beijing   \n",
       "717       E-commerce & direct-to-consumer  La Plaine Saint-Denis   \n",
       "733          Internet software & services               New York   \n",
       "866          Internet software & services            Culver City   \n",
       "890                               Fintech                Lincoln   \n",
       "945           Data management & analytics                 Austin   \n",
       "947                     Consumer & retail                 Austin   \n",
       "1002          Mobile & telecommunications               Shanghai   \n",
       "\n",
       "            country      continent  year founded  funding  \\\n",
       "215          Canada  North America          2003  Unknown   \n",
       "424   United States  North America          2019  Unknown   \n",
       "567   United States  North America          2001  Unknown   \n",
       "639           China           Asia          2017  Unknown   \n",
       "651           China           Asia          2020  Unknown   \n",
       "717          France         Europe          2001  Unknown   \n",
       "733   United States  North America          2013  Unknown   \n",
       "866   United States  North America          2019  Unknown   \n",
       "890   United States  North America          2012  Unknown   \n",
       "945   United States  North America          2010  Unknown   \n",
       "947   United States  North America          2002  Unknown   \n",
       "1002          China           Asia          2015  Unknown   \n",
       "\n",
       "                                       select investors  year joined  \\\n",
       "215                                     Sequoia Capital         2021   \n",
       "424   Rubicon Technology Partners, Max Ventures, Inc...         2021   \n",
       "567                                          Blackstone         2020   \n",
       "639                            China Prosperity Capital         2019   \n",
       "651   NetEase Capital, Northern Light Venture Capita...         2021   \n",
       "717                      Summit Partners, Qatar Holding         2007   \n",
       "733   Insight Partners, Silversmith Capital Partners...         2021   \n",
       "866   Advent International, PSG, Providence Equity P...         2021   \n",
       "890                                        Bain Capital         2021   \n",
       "945   Advent International, Bain Capital Ventures, S...         2021   \n",
       "947        Berkshire Partners, Norwest Venture Partners         2016   \n",
       "1002  DST Global, Sequoia Capital China, Gaorong Cap...         2019   \n",
       "\n",
       "      funding_converted  \n",
       "215                 NaN  \n",
       "424                 NaN  \n",
       "567                 NaN  \n",
       "639                 NaN  \n",
       "651                 NaN  \n",
       "717                 NaN  \n",
       "733                 NaN  \n",
       "866                 NaN  \n",
       "890                 NaN  \n",
       "945                 NaN  \n",
       "947                 NaN  \n",
       "1002                NaN  "
      ]
     },
     "execution_count": 11,
     "metadata": {},
     "output_type": "execute_result"
    }
   ],
   "source": [
    "unicorn[unicorn['funding_converted'].isna()]"
   ]
  },
  {
   "cell_type": "markdown",
   "id": "8c791588",
   "metadata": {},
   "source": [
    "there are 12 more null values in the 'funding_converted' column, this is becaue we do not know the funding price. since there is no means to verify this values, they will have to be dropped."
   ]
  },
  {
   "cell_type": "code",
   "execution_count": 12,
   "id": "8350551c",
   "metadata": {},
   "outputs": [],
   "source": [
    "# to drop null values\n",
    "unicorn = unicorn.dropna()"
   ]
  },
  {
   "cell_type": "code",
   "execution_count": 13,
   "id": "0d5000d1",
   "metadata": {},
   "outputs": [],
   "source": [
    "# to replace strings in 'valuation' column\n",
    "unicorn['valuation'] = unicorn['valuation'].str.replace('B', '')\n",
    "unicorn['valuation'] = unicorn['valuation'].str.replace('$', '', regex = True)"
   ]
  },
  {
   "cell_type": "code",
   "execution_count": 14,
   "id": "17b0c547",
   "metadata": {},
   "outputs": [],
   "source": [
    "# to change data type to integer\n",
    "unicorn['valuation'] = unicorn['valuation'].astype(int)"
   ]
  },
  {
   "cell_type": "code",
   "execution_count": 15,
   "id": "5cfef733",
   "metadata": {
    "scrolled": true
   },
   "outputs": [
    {
     "name": "stdout",
     "output_type": "stream",
     "text": [
      "<class 'pandas.core.frame.DataFrame'>\n",
      "Int64Index: 1045 entries, 0 to 1073\n",
      "Data columns (total 12 columns):\n",
      " #   Column             Non-Null Count  Dtype         \n",
      "---  ------             --------------  -----         \n",
      " 0   company            1045 non-null   object        \n",
      " 1   valuation          1045 non-null   int32         \n",
      " 2   date joined        1045 non-null   datetime64[ns]\n",
      " 3   industry           1045 non-null   object        \n",
      " 4   city               1045 non-null   object        \n",
      " 5   country            1045 non-null   object        \n",
      " 6   continent          1045 non-null   object        \n",
      " 7   year founded       1045 non-null   int64         \n",
      " 8   funding            1045 non-null   object        \n",
      " 9   select investors   1045 non-null   object        \n",
      " 10  year joined        1045 non-null   int64         \n",
      " 11  funding_converted  1045 non-null   float64       \n",
      "dtypes: datetime64[ns](1), float64(1), int32(1), int64(2), object(7)\n",
      "memory usage: 102.1+ KB\n"
     ]
    }
   ],
   "source": [
    "unicorn.info()"
   ]
  },
  {
   "cell_type": "markdown",
   "id": "ff17cca2",
   "metadata": {},
   "source": [
    "## Step 3: Data Manipulation and Exploration\n",
    "In this section we will answer some important questions by manipulating and exploring our dataset"
   ]
  },
  {
   "cell_type": "code",
   "execution_count": 16,
   "id": "2e5d6e98",
   "metadata": {},
   "outputs": [
    {
     "data": {
      "text/html": [
       "<div>\n",
       "<style scoped>\n",
       "    .dataframe tbody tr th:only-of-type {\n",
       "        vertical-align: middle;\n",
       "    }\n",
       "\n",
       "    .dataframe tbody tr th {\n",
       "        vertical-align: top;\n",
       "    }\n",
       "\n",
       "    .dataframe thead th {\n",
       "        text-align: right;\n",
       "    }\n",
       "</style>\n",
       "<table border=\"1\" class=\"dataframe\">\n",
       "  <thead>\n",
       "    <tr style=\"text-align: right;\">\n",
       "      <th></th>\n",
       "      <th>valuation</th>\n",
       "      <th>year founded</th>\n",
       "      <th>year joined</th>\n",
       "      <th>funding_converted</th>\n",
       "    </tr>\n",
       "  </thead>\n",
       "  <tbody>\n",
       "    <tr>\n",
       "      <th>count</th>\n",
       "      <td>1045.000000</td>\n",
       "      <td>1045.000000</td>\n",
       "      <td>1045.000000</td>\n",
       "      <td>1045.000000</td>\n",
       "    </tr>\n",
       "    <tr>\n",
       "      <th>mean</th>\n",
       "      <td>3.478469</td>\n",
       "      <td>2012.892823</td>\n",
       "      <td>2019.901435</td>\n",
       "      <td>0.557741</td>\n",
       "    </tr>\n",
       "    <tr>\n",
       "      <th>std</th>\n",
       "      <td>8.612828</td>\n",
       "      <td>5.704404</td>\n",
       "      <td>1.971261</td>\n",
       "      <td>0.814560</td>\n",
       "    </tr>\n",
       "    <tr>\n",
       "      <th>min</th>\n",
       "      <td>1.000000</td>\n",
       "      <td>1919.000000</td>\n",
       "      <td>2011.000000</td>\n",
       "      <td>0.000000</td>\n",
       "    </tr>\n",
       "    <tr>\n",
       "      <th>25%</th>\n",
       "      <td>1.000000</td>\n",
       "      <td>2011.000000</td>\n",
       "      <td>2019.000000</td>\n",
       "      <td>0.223000</td>\n",
       "    </tr>\n",
       "    <tr>\n",
       "      <th>50%</th>\n",
       "      <td>2.000000</td>\n",
       "      <td>2014.000000</td>\n",
       "      <td>2021.000000</td>\n",
       "      <td>0.370000</td>\n",
       "    </tr>\n",
       "    <tr>\n",
       "      <th>75%</th>\n",
       "      <td>3.000000</td>\n",
       "      <td>2016.000000</td>\n",
       "      <td>2021.000000</td>\n",
       "      <td>0.610000</td>\n",
       "    </tr>\n",
       "    <tr>\n",
       "      <th>max</th>\n",
       "      <td>180.000000</td>\n",
       "      <td>2021.000000</td>\n",
       "      <td>2022.000000</td>\n",
       "      <td>14.000000</td>\n",
       "    </tr>\n",
       "  </tbody>\n",
       "</table>\n",
       "</div>"
      ],
      "text/plain": [
       "         valuation  year founded  year joined  funding_converted\n",
       "count  1045.000000   1045.000000  1045.000000        1045.000000\n",
       "mean      3.478469   2012.892823  2019.901435           0.557741\n",
       "std       8.612828      5.704404     1.971261           0.814560\n",
       "min       1.000000   1919.000000  2011.000000           0.000000\n",
       "25%       1.000000   2011.000000  2019.000000           0.223000\n",
       "50%       2.000000   2014.000000  2021.000000           0.370000\n",
       "75%       3.000000   2016.000000  2021.000000           0.610000\n",
       "max     180.000000   2021.000000  2022.000000          14.000000"
      ]
     },
     "execution_count": 16,
     "metadata": {},
     "output_type": "execute_result"
    }
   ],
   "source": [
    "unicorn.describe()"
   ]
  },
  {
   "cell_type": "code",
   "execution_count": 17,
   "id": "000bff86",
   "metadata": {},
   "outputs": [
    {
     "data": {
      "image/png": "[encoded data removed]",
      "text/plain": [
       "<Figure size 504x864 with 6 Axes>"
      ]
     },
     "metadata": {
      "needs_background": "light"
     },
     "output_type": "display_data"
    }
   ],
   "source": [
    "unicorn.hist(figsize=(7,12))\n",
    "plt.show()"
   ]
  },
  {
   "cell_type": "code",
   "execution_count": 18,
   "id": "db72182e",
   "metadata": {},
   "outputs": [
    {
     "data": {
      "text/html": [
       "<div>\n",
       "<style scoped>\n",
       "    .dataframe tbody tr th:only-of-type {\n",
       "        vertical-align: middle;\n",
       "    }\n",
       "\n",
       "    .dataframe tbody tr th {\n",
       "        vertical-align: top;\n",
       "    }\n",
       "\n",
       "    .dataframe thead th {\n",
       "        text-align: right;\n",
       "    }\n",
       "</style>\n",
       "<table border=\"1\" class=\"dataframe\">\n",
       "  <thead>\n",
       "    <tr style=\"text-align: right;\">\n",
       "      <th></th>\n",
       "      <th>valuation</th>\n",
       "      <th>year founded</th>\n",
       "      <th>year joined</th>\n",
       "      <th>funding_converted</th>\n",
       "    </tr>\n",
       "  </thead>\n",
       "  <tbody>\n",
       "    <tr>\n",
       "      <th>valuation</th>\n",
       "      <td>1.000000</td>\n",
       "      <td>-0.078304</td>\n",
       "      <td>-0.230955</td>\n",
       "      <td>0.597117</td>\n",
       "    </tr>\n",
       "    <tr>\n",
       "      <th>year founded</th>\n",
       "      <td>-0.078304</td>\n",
       "      <td>1.000000</td>\n",
       "      <td>0.349667</td>\n",
       "      <td>-0.080836</td>\n",
       "    </tr>\n",
       "    <tr>\n",
       "      <th>year joined</th>\n",
       "      <td>-0.230955</td>\n",
       "      <td>0.349667</td>\n",
       "      <td>1.000000</td>\n",
       "      <td>-0.294758</td>\n",
       "    </tr>\n",
       "    <tr>\n",
       "      <th>funding_converted</th>\n",
       "      <td>0.597117</td>\n",
       "      <td>-0.080836</td>\n",
       "      <td>-0.294758</td>\n",
       "      <td>1.000000</td>\n",
       "    </tr>\n",
       "  </tbody>\n",
       "</table>\n",
       "</div>"
      ],
      "text/plain": [
       "                   valuation  year founded  year joined  funding_converted\n",
       "valuation           1.000000     -0.078304    -0.230955           0.597117\n",
       "year founded       -0.078304      1.000000     0.349667          -0.080836\n",
       "year joined        -0.230955      0.349667     1.000000          -0.294758\n",
       "funding_converted   0.597117     -0.080836    -0.294758           1.000000"
      ]
     },
     "execution_count": 18,
     "metadata": {},
     "output_type": "execute_result"
    }
   ],
   "source": [
    "# checking the corelation between the columns\n",
    "unicorn.corr()"
   ]
  },
  {
   "cell_type": "code",
   "execution_count": 19,
   "id": "bbfe1bd2",
   "metadata": {
    "scrolled": true
   },
   "outputs": [
    {
     "data": {
      "image/png": "[encoded data removed]",
      "text/plain": [
       "<Figure size 432x288 with 2 Axes>"
      ]
     },
     "metadata": {
      "needs_background": "light"
     },
     "output_type": "display_data"
    }
   ],
   "source": [
    "# displaying the correlatio between the columns\n",
    "sns.heatmap(unicorn.corr())\n",
    "plt.show()"
   ]
  },
  {
   "cell_type": "markdown",
   "id": "910320fe",
   "metadata": {},
   "source": [
    "We see very little correlation between some columns"
   ]
  },
  {
   "cell_type": "markdown",
   "id": "90e5ddb9",
   "metadata": {},
   "source": [
    "### Question 1: Which Unicorn companies had the biggest return on investment?"
   ]
  },
  {
   "cell_type": "code",
   "execution_count": 20,
   "id": "33c905e0",
   "metadata": {},
   "outputs": [],
   "source": [
    "# dropping the row where funding is equal to zero\n",
    "unicorn = unicorn[unicorn['funding'] != '$0M']"
   ]
  },
  {
   "cell_type": "code",
   "execution_count": 21,
   "id": "8567da23",
   "metadata": {},
   "outputs": [],
   "source": [
    "# finding the Return on investment(ROI)\n",
    "unicorn['roi'] = ((unicorn['valuation'] - unicorn['funding_converted'])/unicorn['funding_converted']*100)"
   ]
  },
  {
   "cell_type": "code",
   "execution_count": 22,
   "id": "c66f7ccf",
   "metadata": {
    "scrolled": true
   },
   "outputs": [
    {
     "name": "stdout",
     "output_type": "stream",
     "text": [
      "              company        roi  year founded\n",
      "239            Zapier  399900.00          2011\n",
      "61             Dunamu   12576.06          2012\n",
      "792         Workhuman   11011.11          1999\n",
      "361              CFGI   10426.32          2000\n",
      "743            Manner    9900.00          2015\n",
      "...               ...        ...           ...\n",
      "577        Magic Leap     -33.33          2010\n",
      "657   Hello TransTech     -50.00          2016\n",
      "1010  REEF Technology     -50.00          2015\n",
      "640          Snapdeal     -50.00          2008\n",
      "615              Fair     -50.00          2016\n",
      "\n",
      "[1044 rows x 3 columns]\n"
     ]
    }
   ],
   "source": [
    "# subsetting the list of companies and their ROI\n",
    "company_roi = unicorn[['company','roi', 'year founded']]\n",
    "print(company_roi.sort_values(by='roi', ascending=False).round(2))"
   ]
  },
  {
   "cell_type": "markdown",
   "id": "8588e242",
   "metadata": {},
   "source": [
    "we found that Zapier is the company with the highest ROI"
   ]
  },
  {
   "cell_type": "markdown",
   "id": "459cc153",
   "metadata": {},
   "source": [
    "### Question 2: How long does it usually take for a company to become a unicorn?"
   ]
  },
  {
   "cell_type": "code",
   "execution_count": 23,
   "id": "ce58bd3c",
   "metadata": {},
   "outputs": [],
   "source": [
    "# to find the duration between the year founded and year joined\n",
    "unicorn['duration']= abs(unicorn['year founded'] - unicorn['year joined'])"
   ]
  },
  {
   "cell_type": "code",
   "execution_count": 24,
   "id": "63a49990",
   "metadata": {},
   "outputs": [
    {
     "data": {
      "image/png": "[encoded data removed]",
      "text/plain": [
       "<Figure size 432x288 with 1 Axes>"
      ]
     },
     "metadata": {
      "needs_background": "light"
     },
     "output_type": "display_data"
    }
   ],
   "source": [
    "# to plot the duration\n",
    "sns.histplot(unicorn['duration'])\n",
    "plt.title('Duration to become a Unicorn')\n",
    "plt.show()"
   ]
  },
  {
   "cell_type": "code",
   "execution_count": 25,
   "id": "ff7515b2",
   "metadata": {},
   "outputs": [
    {
     "name": "stdout",
     "output_type": "stream",
     "text": [
      "6.92911877394636\n"
     ]
    }
   ],
   "source": [
    "# to print the average duration\n",
    "print(unicorn['duration'].mean())"
   ]
  },
  {
   "cell_type": "code",
   "execution_count": 26,
   "id": "fb7f8045",
   "metadata": {},
   "outputs": [
    {
     "data": {
      "image/png": "[encoded data removed]",
      "text/plain": [
       "<Figure size 432x288 with 1 Axes>"
      ]
     },
     "metadata": {
      "needs_background": "light"
     },
     "output_type": "display_data"
    }
   ],
   "source": [
    "# to filter duration greater than or equal to the mean duration and plot the bar chart\n",
    "filtered_unicorn = unicorn[unicorn['duration'] >= 7]\n",
    "result = filtered_unicorn.groupby('duration')['company'].count()\n",
    "\n",
    "result.plot(kind='bar')\n",
    "plt.xlabel('duration')\n",
    "plt.ylabel('count')\n",
    "plt.title('No of company per duration to become unicorn')\n",
    "plt.show()"
   ]
  },
  {
   "cell_type": "markdown",
   "id": "24050d28",
   "metadata": {},
   "source": [
    "We found that it takes an average duration of 7 years to become a unicorn company, since a majority of this companies took same duration we can infer that it has always been that way."
   ]
  },
  {
   "cell_type": "markdown",
   "id": "57adb6ea",
   "metadata": {},
   "source": [
    "### Question 3: Which countries have the most unicorns? Are there any cities that appear to be industry hubs"
   ]
  },
  {
   "cell_type": "code",
   "execution_count": 27,
   "id": "98434766",
   "metadata": {},
   "outputs": [
    {
     "data": {
      "image/png": "[encoded data removed]",
      "text/plain": [
       "<Figure size 432x288 with 1 Axes>"
      ]
     },
     "metadata": {
      "needs_background": "light"
     },
     "output_type": "display_data"
    }
   ],
   "source": [
    "# to count companies in each country, filter top 5 countries and plot a bar chart\n",
    "\n",
    "company_per_country = unicorn.groupby('country')['company'].count()\n",
    "sort_country = company_per_country.sort_values(ascending=False)\n",
    "top_5_countries = sort_country[0:5]\n",
    "\n",
    "top_5_countries.plot(kind='bar')\n",
    "plt.xlabel('country')\n",
    "plt.ylabel('No of company')\n",
    "plt.title('Top 5 Countries with the most companies')\n",
    "plt.show()"
   ]
  },
  {
   "cell_type": "code",
   "execution_count": 28,
   "id": "c0716781",
   "metadata": {},
   "outputs": [
    {
     "data": {
      "image/png": "[encoded data removed]",
      "text/plain": [
       "<Figure size 432x288 with 1 Axes>"
      ]
     },
     "metadata": {
      "needs_background": "light"
     },
     "output_type": "display_data"
    }
   ],
   "source": [
    "# count industries in each city, filter top 5 cities and plot a bar chart\n",
    "\n",
    "industry_per_city = unicorn.groupby('city')['industry'].count()\n",
    "sort_city = industry_per_city.sort_values(ascending=False)\n",
    "top_5_cities = sort_city[0:5]\n",
    "\n",
    "top_5_cities.plot(kind='bar')\n",
    "plt.xlabel('cities')\n",
    "plt.ylabel('No of Industries')\n",
    "plt.title('Top 5 Cities with the most industries')\n",
    "plt.show()"
   ]
  },
  {
   "cell_type": "markdown",
   "id": "ad380001",
   "metadata": {},
   "source": [
    "We see that the United states is the country with the most Unicorn companies and San Francisco is the city that appears to be industry hub."
   ]
  },
  {
   "cell_type": "markdown",
   "id": "3adb396c",
   "metadata": {},
   "source": [
    "### Question 4: Which investors have funded the most unicorns?"
   ]
  },
  {
   "cell_type": "code",
   "execution_count": 29,
   "id": "78bbf6ac",
   "metadata": {},
   "outputs": [],
   "source": [
    "# Split the Investors column and create a new DataFrame with each investor in a separate row\n",
    "investor_df = unicorn[\"select investors\"].str.split(\", \", expand=True).stack().reset_index(level=1, drop=True).rename(\"select investor\")\n",
    "\n",
    "# Count the occurrences of each investor\n",
    "investor_counts = investor_df.value_counts()\n",
    "\n",
    "# Filter first 10 rows\n",
    "top10_investor = investor_counts[0:10]"
   ]
  },
  {
   "cell_type": "code",
   "execution_count": 30,
   "id": "72a1e9cd",
   "metadata": {},
   "outputs": [
    {
     "data": {
      "image/png": "[encoded data removed]",
      "text/plain": [
       "<Figure size 432x288 with 1 Axes>"
      ]
     },
     "metadata": {
      "needs_background": "light"
     },
     "output_type": "display_data"
    }
   ],
   "source": [
    "top10_investor.plot(kind='bar')\n",
    "plt.xlabel('Investors')\n",
    "plt.ylabel('count')\n",
    "plt.title('Investor that funded the most unicorns')\n",
    "plt.show()"
   ]
  },
  {
   "cell_type": "markdown",
   "id": "00a119ad",
   "metadata": {},
   "source": [
    "It is seen that 'Accel' are the investors that funded the most Unicorn companies."
   ]
  },
  {
   "cell_type": "markdown",
   "id": "71bd033c",
   "metadata": {},
   "source": [
    "## Conclusion"
   ]
  },
  {
   "cell_type": "markdown",
   "id": "a45d8455",
   "metadata": {},
   "source": [
    "In conclusion, we seen that many Unicorn companies were established in 2015 and many also became unicorn companies around 2021.\n",
    "There exist little correlation between the different varibles.\n",
    "In answering the questions asked, we found that 'Zapier' is the company with the highest ROI of 399,900B, it takes a company an average of '7 years' to become a Unicorn company and many companies took that long to become a unicorn company so we can infer that it has become a norm.\n",
    "We see that the United states is the country with the most Unicorn companies and San Francisco is the city that appears to be industry hub. Finally, it is seen that 'Accel' are the investors that funded the most Unicorn companies."
   ]
  },
  {
   "cell_type": "markdown",
   "id": "be604da4",
   "metadata": {},
   "source": [
    "## Recommendation"
   ]
  },
  {
   "cell_type": "markdown",
   "id": "b166fade",
   "metadata": {},
   "source": [
    "We recommend for investors to invest more in companies situated in the Industrial Hubs like San Francisco in the United states.\n",
    "Also we recommend investors to invest in companies that have been establish on or before 2015 as they tend to do have high Rate of investment."
   ]
  },
  {
   "cell_type": "code",
   "execution_count": null,
   "id": "05b03081",
   "metadata": {},
   "outputs": [],
   "source": []
  }
 ],
 "metadata": {
  "kernelspec": {
   "display_name": "Python 3 (ipykernel)",
   "language": "python",
   "name": "python3"
  },
  "language_info": {
   "codemirror_mode": {
    "name": "ipython",
    "version": 3
   },
   "file_extension": ".py",
   "mimetype": "text/x-python",
   "name": "python",
   "nbconvert_exporter": "python",
   "pygments_lexer": "ipython3",
   "version": "3.9.12"
  }
 },
 "nbformat": 4,
 "nbformat_minor": 5
}
